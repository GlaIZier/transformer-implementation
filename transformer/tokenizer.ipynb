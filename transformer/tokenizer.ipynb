{
 "cells": [
  {
   "cell_type": "code",
   "execution_count": 53,
   "id": "87f24b4c-d3ff-4a3b-a33a-dd4d1ac6757d",
   "metadata": {},
   "outputs": [
    {
     "name": "stdout",
     "output_type": "stream",
     "text": [
      "1943\n",
      "46\n",
      "b\"\\xf0\\x9f\\x8c\\x8d The Beauty of Diversity \\xe2\\x9c\\xa8 Language is a bridge between cultures. From English to \\xe4\\xb8\\xad\\xe6\\x96\\x87 (Chinese), Espa\\xc3\\xb1ol (Spanish), \\xd8\\xb9\\xd8\\xb1\\xd8\\xa8\\xd9\\x8a (Arabic), and \\xd0\\xa0\\xd1\\x83\\xd1\\x81\\xd1\\x81\\xd0\\xba\\xd0\\xb8\\xd0\\xb9 (Russian)\\xe2\\x80\\x94each carries history, emotion, and expression. Hello in different languages: - English: Hello! - Spanish: \\xc2\\xa1Hola! - French: Bonjour! - Chinese: \\xe4\\xbd\\xa0\\xe5\\xa5\\xbd (N\\xc7\\x90 h\\xc7\\x8eo)! - Arabic: \\xd9\\x85\\xd8\\xb1\\xd8\\xad\\xd8\\xa8\\xd9\\x8b\\xd8\\xa7 (Marhaban)! - Russian: \\xd0\\x9f\\xd1\\x80\\xd0\\xb8\\xd0\\xb2\\xd0\\xb5\\xd1\\x82 (Privet)! \\xf0\\x9f\\x92\\xa1 Did you know? The word Universe comes from Latin universus, meaning turned into one. \\xf0\\x9f\\x8c\\x8c Mathematics, a universal language, connects us all: \\xcf\\x80 \\xe2\\x89\\x88 3.14159, E = mc\\xc2\\xb2, \\xe2\\x88\\x91 (Summation), and \\xe2\\x88\\x9e (Infinity) guide scientific discoveries. These concepts have propelled humanity forward, enabling advancements in technology, medicine, and space exploration. Our understanding of the cosmos has expanded through inventions like the telescope \\xf0\\x9f\\x94\\xad, microscope \\xf0\\x9f\\x94\\xac, and the more recent James Webb Space Telescope. The moon landing \\xf0\\x9f\\x8c\\x95 in 1969 marked a significant milestone, showing the power of collaboration and determination. \\xf0\\x9f\\x9a\\x80 These achievements remind us that with dedication, the impossible becomes possible. Ad astra per aspera \\xe2\\x80\\x94 To the stars through difficulties. \\xf0\\x9f\\x92\\x96 No matter where you're from, we share the same sky, the same hopes, and the same dreams. Our stories intertwine, creating a tapestry of shared experiences. \\xf0\\x9f\\x8c\\xbf\\xe2\\x9c\\xa8 Throughout history, humanity has embraced the pursuit of knowledge. From the early scientific method to the cutting-edge AI research happening today, the desire to learn and understand drives us forward. Let us always be curious, ask questions, and seek answers. Remember, it's not just about discoveries\\xe2\\x80\\x94it's about how those discoveries improve lives, create connections, and build a better world for all. \\xf0\\x9f\\x8c\\x9f Stay kind, stay inspired, and keep exploring the endless possibilities that lie ahead. \\xf0\\x9f\\x8c\\x8d\\xf0\\x9f\\x92\\xa1 Together, we can achieve great things, and it all begins with hope and vision. Each step forward brings us closer to a future where we work together, for the good of all.\"\n",
      "[240, 159, 140, 141, 32, 84, 104, 101, 32, 66, 101, 97, 117, 116, 121, 32, 111, 102, 32, 68, 105, 118, 101, 114, 115, 105, 116, 121, 32, 226, 156, 168, 32, 76, 97, 110, 103, 117, 97, 103, 101, 32, 105, 115, 32, 97, 32, 98, 114, 105, 100, 103, 101, 32, 98, 101, 116, 119, 101, 101, 110, 32, 99, 117, 108, 116, 117, 114, 101, 115, 46, 32, 70, 114, 111, 109, 32, 69, 110, 103, 108, 105, 115, 104, 32, 116, 111, 32, 228, 184, 173, 230, 150, 135, 32, 40, 67, 104, 105, 110, 101, 115, 101, 41, 44, 32, 69, 115, 112, 97, 195, 177, 111, 108, 32, 40, 83, 112, 97, 110, 105, 115, 104, 41, 44, 32, 216, 185, 216, 177, 216, 168, 217, 138, 32, 40, 65, 114, 97, 98, 105, 99, 41, 44, 32, 97, 110, 100, 32, 208, 160, 209, 131, 209, 129, 209, 129, 208, 186, 208, 184, 208, 185, 32, 40, 82, 117, 115, 115, 105, 97, 110, 41, 226, 128, 148, 101, 97, 99, 104, 32, 99, 97, 114, 114, 105, 101, 115, 32, 104, 105, 115, 116, 111, 114, 121, 44, 32, 101, 109, 111, 116, 105, 111, 110, 44, 32, 97, 110, 100, 32, 101, 120, 112, 114, 101, 115, 115, 105, 111, 110, 46, 32, 72, 101, 108, 108, 111, 32, 105, 110, 32, 100, 105, 102, 102, 101, 114, 101, 110, 116, 32, 108, 97, 110, 103, 117, 97, 103, 101, 115, 58, 32, 45, 32, 69, 110, 103, 108, 105, 115, 104, 58, 32, 72, 101, 108, 108, 111, 33, 32, 45, 32, 83, 112, 97, 110, 105, 115, 104, 58, 32, 194, 161, 72, 111, 108, 97, 33, 32, 45, 32, 70, 114, 101, 110, 99, 104, 58, 32, 66, 111, 110, 106, 111, 117, 114, 33, 32, 45, 32, 67, 104, 105, 110, 101, 115, 101, 58, 32, 228, 189, 160, 229, 165, 189, 32, 40, 78, 199, 144, 32, 104, 199, 142, 111, 41, 33, 32, 45, 32, 65, 114, 97, 98, 105, 99, 58, 32, 217, 133, 216, 177, 216, 173, 216, 168, 217, 139, 216, 167, 32, 40, 77, 97, 114, 104, 97, 98, 97, 110, 41, 33, 32, 45, 32, 82, 117, 115, 115, 105, 97, 110, 58, 32, 208, 159, 209, 128, 208, 184, 208, 178, 208, 181, 209, 130, 32, 40, 80, 114, 105, 118, 101, 116, 41, 33, 32, 240, 159, 146, 161, 32, 68, 105, 100, 32, 121, 111, 117, 32, 107, 110, 111, 119, 63, 32, 84, 104, 101, 32, 119, 111, 114, 100, 32, 85, 110, 105, 118, 101, 114, 115, 101, 32, 99, 111, 109, 101, 115, 32, 102, 114, 111, 109, 32, 76, 97, 116, 105, 110, 32, 117, 110, 105, 118, 101, 114, 115, 117, 115, 44, 32, 109, 101, 97, 110, 105, 110, 103, 32, 116, 117, 114, 110, 101, 100, 32, 105, 110, 116, 111, 32, 111, 110, 101, 46, 32, 240, 159, 140, 140, 32, 77, 97, 116, 104, 101, 109, 97, 116, 105, 99, 115, 44, 32, 97, 32, 117, 110, 105, 118, 101, 114, 115, 97, 108, 32, 108, 97, 110, 103, 117, 97, 103, 101, 44, 32, 99, 111, 110, 110, 101, 99, 116, 115, 32, 117, 115, 32, 97, 108, 108, 58, 32, 207, 128, 32, 226, 137, 136, 32, 51, 46, 49, 52, 49, 53, 57, 44, 32, 69, 32, 61, 32, 109, 99, 194, 178, 44, 32, 226, 136, 145, 32, 40, 83, 117, 109, 109, 97, 116, 105, 111, 110, 41, 44, 32, 97, 110, 100, 32, 226, 136, 158, 32, 40, 73, 110, 102, 105, 110, 105, 116, 121, 41, 32, 103, 117, 105, 100, 101, 32, 115, 99, 105, 101, 110, 116, 105, 102, 105, 99, 32, 100, 105, 115, 99, 111, 118, 101, 114, 105, 101, 115, 46, 32, 84, 104, 101, 115, 101, 32, 99, 111, 110, 99, 101, 112, 116, 115, 32, 104, 97, 118, 101, 32, 112, 114, 111, 112, 101, 108, 108, 101, 100, 32, 104, 117, 109, 97, 110, 105, 116, 121, 32, 102, 111, 114, 119, 97, 114, 100, 44, 32, 101, 110, 97, 98, 108, 105, 110, 103, 32, 97, 100, 118, 97, 110, 99, 101, 109, 101, 110, 116, 115, 32, 105, 110, 32, 116, 101, 99, 104, 110, 111, 108, 111, 103, 121, 44, 32, 109, 101, 100, 105, 99, 105, 110, 101, 44, 32, 97, 110, 100, 32, 115, 112, 97, 99, 101, 32, 101, 120, 112, 108, 111, 114, 97, 116, 105, 111, 110, 46, 32, 79, 117, 114, 32, 117, 110, 100, 101, 114, 115, 116, 97, 110, 100, 105, 110, 103, 32, 111, 102, 32, 116, 104, 101, 32, 99, 111, 115, 109, 111, 115, 32, 104, 97, 115, 32, 101, 120, 112, 97, 110, 100, 101, 100, 32, 116, 104, 114, 111, 117, 103, 104, 32, 105, 110, 118, 101, 110, 116, 105, 111, 110, 115, 32, 108, 105, 107, 101, 32, 116, 104, 101, 32, 116, 101, 108, 101, 115, 99, 111, 112, 101, 32, 240, 159, 148, 173, 44, 32, 109, 105, 99, 114, 111, 115, 99, 111, 112, 101, 32, 240, 159, 148, 172, 44, 32, 97, 110, 100, 32, 116, 104, 101, 32, 109, 111, 114, 101, 32, 114, 101, 99, 101, 110, 116, 32, 74, 97, 109, 101, 115, 32, 87, 101, 98, 98, 32, 83, 112, 97, 99, 101, 32, 84, 101, 108, 101, 115, 99, 111, 112, 101, 46, 32, 84, 104, 101, 32, 109, 111, 111, 110, 32, 108, 97, 110, 100, 105, 110, 103, 32, 240, 159, 140, 149, 32, 105, 110, 32, 49, 57, 54, 57, 32, 109, 97, 114, 107, 101, 100, 32, 97, 32, 115, 105, 103, 110, 105, 102, 105, 99, 97, 110, 116, 32, 109, 105, 108, 101, 115, 116, 111, 110, 101, 44, 32, 115, 104, 111, 119, 105, 110, 103, 32, 116, 104, 101, 32, 112, 111, 119, 101, 114, 32, 111, 102, 32, 99, 111, 108, 108, 97, 98, 111, 114, 97, 116, 105, 111, 110, 32, 97, 110, 100, 32, 100, 101, 116, 101, 114, 109, 105, 110, 97, 116, 105, 111, 110, 46, 32, 240, 159, 154, 128, 32, 84, 104, 101, 115, 101, 32, 97, 99, 104, 105, 101, 118, 101, 109, 101, 110, 116, 115, 32, 114, 101, 109, 105, 110, 100, 32, 117, 115, 32, 116, 104, 97, 116, 32, 119, 105, 116, 104, 32, 100, 101, 100, 105, 99, 97, 116, 105, 111, 110, 44, 32, 116, 104, 101, 32, 105, 109, 112, 111, 115, 115, 105, 98, 108, 101, 32, 98, 101, 99, 111, 109, 101, 115, 32, 112, 111, 115, 115, 105, 98, 108, 101, 46, 32, 65, 100, 32, 97, 115, 116, 114, 97, 32, 112, 101, 114, 32, 97, 115, 112, 101, 114, 97, 32, 226, 128, 148, 32, 84, 111, 32, 116, 104, 101, 32, 115, 116, 97, 114, 115, 32, 116, 104, 114, 111, 117, 103, 104, 32, 100, 105, 102, 102, 105, 99, 117, 108, 116, 105, 101, 115, 46, 32, 240, 159, 146, 150, 32, 78, 111, 32, 109, 97, 116, 116, 101, 114, 32, 119, 104, 101, 114, 101, 32, 121, 111, 117, 39, 114, 101, 32, 102, 114, 111, 109, 44, 32, 119, 101, 32, 115, 104, 97, 114, 101, 32, 116, 104, 101, 32, 115, 97, 109, 101, 32, 115, 107, 121, 44, 32, 116, 104, 101, 32, 115, 97, 109, 101, 32, 104, 111, 112, 101, 115, 44, 32, 97, 110, 100, 32, 116, 104, 101, 32, 115, 97, 109, 101, 32, 100, 114, 101, 97, 109, 115, 46, 32, 79, 117, 114, 32, 115, 116, 111, 114, 105, 101, 115, 32, 105, 110, 116, 101, 114, 116, 119, 105, 110, 101, 44, 32, 99, 114, 101, 97, 116, 105, 110, 103, 32, 97, 32, 116, 97, 112, 101, 115, 116, 114, 121, 32, 111, 102, 32, 115, 104, 97, 114, 101, 100, 32, 101, 120, 112, 101, 114, 105, 101, 110, 99, 101, 115, 46, 32, 240, 159, 140, 191, 226, 156, 168, 32, 84, 104, 114, 111, 117, 103, 104, 111, 117, 116, 32, 104, 105, 115, 116, 111, 114, 121, 44, 32, 104, 117, 109, 97, 110, 105, 116, 121, 32, 104, 97, 115, 32, 101, 109, 98, 114, 97, 99, 101, 100, 32, 116, 104, 101, 32, 112, 117, 114, 115, 117, 105, 116, 32, 111, 102, 32, 107, 110, 111, 119, 108, 101, 100, 103, 101, 46, 32, 70, 114, 111, 109, 32, 116, 104, 101, 32, 101, 97, 114, 108, 121, 32, 115, 99, 105, 101, 110, 116, 105, 102, 105, 99, 32, 109, 101, 116, 104, 111, 100, 32, 116, 111, 32, 116, 104, 101, 32, 99, 117, 116, 116, 105, 110, 103, 45, 101, 100, 103, 101, 32, 65, 73, 32, 114, 101, 115, 101, 97, 114, 99, 104, 32, 104, 97, 112, 112, 101, 110, 105, 110, 103, 32, 116, 111, 100, 97, 121, 44, 32, 116, 104, 101, 32, 100, 101, 115, 105, 114, 101, 32, 116, 111, 32, 108, 101, 97, 114, 110, 32, 97, 110, 100, 32, 117, 110, 100, 101, 114, 115, 116, 97, 110, 100, 32, 100, 114, 105, 118, 101, 115, 32, 117, 115, 32, 102, 111, 114, 119, 97, 114, 100, 46, 32, 76, 101, 116, 32, 117, 115, 32, 97, 108, 119, 97, 121, 115, 32, 98, 101, 32, 99, 117, 114, 105, 111, 117, 115, 44, 32, 97, 115, 107, 32, 113, 117, 101, 115, 116, 105, 111, 110, 115, 44, 32, 97, 110, 100, 32, 115, 101, 101, 107, 32, 97, 110, 115, 119, 101, 114, 115, 46, 32, 82, 101, 109, 101, 109, 98, 101, 114, 44, 32, 105, 116, 39, 115, 32, 110, 111, 116, 32, 106, 117, 115, 116, 32, 97, 98, 111, 117, 116, 32, 100, 105, 115, 99, 111, 118, 101, 114, 105, 101, 115, 226, 128, 148, 105, 116, 39, 115, 32, 97, 98, 111, 117, 116, 32, 104, 111, 119, 32, 116, 104, 111, 115, 101, 32, 100, 105, 115, 99, 111, 118, 101, 114, 105, 101, 115, 32, 105, 109, 112, 114, 111, 118, 101, 32, 108, 105, 118, 101, 115, 44, 32, 99, 114, 101, 97, 116, 101, 32, 99, 111, 110, 110, 101, 99, 116, 105, 111, 110, 115, 44, 32, 97, 110, 100, 32, 98, 117, 105, 108, 100, 32, 97, 32, 98, 101, 116, 116, 101, 114, 32, 119, 111, 114, 108, 100, 32, 102, 111, 114, 32, 97, 108, 108, 46, 32, 240, 159, 140, 159, 32, 83, 116, 97, 121, 32, 107, 105, 110, 100, 44, 32, 115, 116, 97, 121, 32, 105, 110, 115, 112, 105, 114, 101, 100, 44, 32, 97, 110, 100, 32, 107, 101, 101, 112, 32, 101, 120, 112, 108, 111, 114, 105, 110, 103, 32, 116, 104, 101, 32, 101, 110, 100, 108, 101, 115, 115, 32, 112, 111, 115, 115, 105, 98, 105, 108, 105, 116, 105, 101, 115, 32, 116, 104, 97, 116, 32, 108, 105, 101, 32, 97, 104, 101, 97, 100, 46, 32, 240, 159, 140, 141, 240, 159, 146, 161, 32, 84, 111, 103, 101, 116, 104, 101, 114, 44, 32, 119, 101, 32, 99, 97, 110, 32, 97, 99, 104, 105, 101, 118, 101, 32, 103, 114, 101, 97, 116, 32, 116, 104, 105, 110, 103, 115, 44, 32, 97, 110, 100, 32, 105, 116, 32, 97, 108, 108, 32, 98, 101, 103, 105, 110, 115, 32, 119, 105, 116, 104, 32, 104, 111, 112, 101, 32, 97, 110, 100, 32, 118, 105, 115, 105, 111, 110, 46, 32, 69, 97, 99, 104, 32, 115, 116, 101, 112, 32, 102, 111, 114, 119, 97, 114, 100, 32, 98, 114, 105, 110, 103, 115, 32, 117, 115, 32, 99, 108, 111, 115, 101, 114, 32, 116, 111, 32, 97, 32, 102, 117, 116, 117, 114, 101, 32, 119, 104, 101, 114, 101, 32, 119, 101, 32, 119, 111, 114, 107, 32, 116, 111, 103, 101, 116, 104, 101, 114, 44, 32, 102, 111, 114, 32, 116, 104, 101, 32, 103, 111, 111, 100, 32, 111, 102, 32, 97, 108, 108, 46]\n",
      "2032\n"
     ]
    }
   ],
   "source": [
    "# text = \"Hello, 世界! 👋 𝒯𝒽𝒾𝓈 𝒾𝓈 𝓈𝑜𝓂𝑒 𝒻𝒶𝓃𝒸𝓎 𝓉𝑒𝓍𝓉. Arabic: مرحبًا بالعالم Greek: Γειά σου κόσμε Russian: Привет, мир! Math symbols: ∑ ∞ ≈ √∫ Emojis: 🚀✨🔥🎉\"\n",
    "text = \"🌍 The Beauty of Diversity ✨ Language is a bridge between cultures. From English to 中文 (Chinese), Español (Spanish), عربي (Arabic), and Русский (Russian)—each carries history, emotion, and expression. Hello in different languages: - English: Hello! - Spanish: ¡Hola! - French: Bonjour! - Chinese: 你好 (Nǐ hǎo)! - Arabic: مرحبًا (Marhaban)! - Russian: Привет (Privet)! 💡 Did you know? The word Universe comes from Latin universus, meaning turned into one. 🌌 Mathematics, a universal language, connects us all: π ≈ 3.14159, E = mc², ∑ (Summation), and ∞ (Infinity) guide scientific discoveries. These concepts have propelled humanity forward, enabling advancements in technology, medicine, and space exploration. Our understanding of the cosmos has expanded through inventions like the telescope 🔭, microscope 🔬, and the more recent James Webb Space Telescope. The moon landing 🌕 in 1969 marked a significant milestone, showing the power of collaboration and determination. 🚀 These achievements remind us that with dedication, the impossible becomes possible. Ad astra per aspera — To the stars through difficulties. 💖 No matter where you're from, we share the same sky, the same hopes, and the same dreams. Our stories intertwine, creating a tapestry of shared experiences. 🌿✨ Throughout history, humanity has embraced the pursuit of knowledge. From the early scientific method to the cutting-edge AI research happening today, the desire to learn and understand drives us forward. Let us always be curious, ask questions, and seek answers. Remember, it's not just about discoveries—it's about how those discoveries improve lives, create connections, and build a better world for all. 🌟 Stay kind, stay inspired, and keep exploring the endless possibilities that lie ahead. 🌍💡 Together, we can achieve great things, and it all begins with hope and vision. Each step forward brings us closer to a future where we work together, for the good of all.\"\n",
    "print(len(text))\n",
    "print(ord(text[-1]))\n",
    "print(text.encode(\"utf-8\"))\n",
    "\n",
    "def get_tokens(s: str):\n",
    "    return list(map(int, s.encode(\"utf-8\")))\n",
    "    # return [ for b in s.encode(\"utf-8\")]\n",
    "tokens = get_tokens(text)\n",
    "print(tokens)\n",
    "print(len(tokens))"
   ]
  },
  {
   "cell_type": "code",
   "execution_count": 71,
   "id": "d0f72044-353b-40a2-864c-e3fea254c2fe",
   "metadata": {},
   "outputs": [
    {
     "name": "stdout",
     "output_type": "stream",
     "text": [
      "(101, 32)\n",
      "2032\n",
      "1980\n",
      "1600\n",
      "{256: (101, 32), 257: (44, 32), 258: (97, 110), 259: (115, 32), 260: (100, 32), 261: (105, 110), 262: (116, 104), 263: (101, 114), 264: (101, 115), 265: (111, 110), 266: (46, 32), 267: (111, 114), 268: (262, 256), 269: (258, 260), 270: (116, 105), 271: (116, 32), 272: (101, 110), 273: (240, 159), 274: (97, 114), 275: (261, 103)}\n"
     ]
    }
   ],
   "source": [
    "from collections import Counter\n",
    "from typing import List\n",
    "\n",
    "def find_freq_pair(ids: List[int]) -> (int, int):\n",
    "    return Counter(zip(ids, ids[1:])).most_common(1)[0][0]\n",
    "\n",
    "def merge(ids: List[int], pair: (int, int), idx: int):\n",
    "    i = 1\n",
    "    new_tokens = []\n",
    "    while i < len(ids):\n",
    "        if (ids[i - 1], ids[i]) == pair:\n",
    "            new_tokens.append(idx)\n",
    "            i += 2\n",
    "        else:\n",
    "            new_tokens.append(ids[i - 1])\n",
    "            i += 1\n",
    "    if new_tokens[-1] != idx:\n",
    "        new_tokens.append(ids[-1])\n",
    "    return new_tokens\n",
    "\n",
    "def merge_seq(ids: List[int], vocab_size=276):\n",
    "    new_ids = ids.copy()\n",
    "    for i in range(256, vocab_size):\n",
    "        new_ids = merge(new_ids, find_freq_pair(new_ids), i)\n",
    "    return new_ids\n",
    "\n",
    "def get_merges(ids: List[int], vocab_size=276):\n",
    "    new_ids = ids.copy()\n",
    "    merges = {}\n",
    "    for i in range(256, vocab_size):\n",
    "        freq_pair = find_freq_pair(new_ids)\n",
    "        merges[i] = freq_pair\n",
    "        new_ids = merge(new_ids, freq_pair, i)\n",
    "    return merges\n",
    "\n",
    "freq_pair = find_freq_pair(tokens)\n",
    "print(freq_pair)\n",
    "print(len(tokens))\n",
    "print(len(merge(tokens, freq_pair, 256)))\n",
    "print(len(merge_seq(tokens)))\n",
    "print(get_merges(tokens))"
   ]
  },
  {
   "cell_type": "code",
   "execution_count": 69,
   "id": "d5edc1ff-13ff-4cbc-8c41-0e7db649ab5d",
   "metadata": {},
   "outputs": [
    {
     "name": "stdout",
     "output_type": "stream",
     "text": [
      "[1, 2, 3]\n"
     ]
    }
   ],
   "source": [
    "a = [1,2,3]\n",
    "b = a.copy()\n",
    "b[1] = 100\n",
    "print(a)"
   ]
  },
  {
   "cell_type": "code",
   "execution_count": null,
   "id": "50dc6c6f-6c82-473a-8973-8b052ad3c32c",
   "metadata": {},
   "outputs": [],
   "source": []
  },
  {
   "cell_type": "code",
   "execution_count": null,
   "id": "a409e45b-ebc5-4072-90ab-03881ec390c8",
   "metadata": {},
   "outputs": [],
   "source": []
  },
  {
   "cell_type": "code",
   "execution_count": null,
   "id": "6c446bbf-7e28-4f2f-abc3-7a1c4311a1ed",
   "metadata": {},
   "outputs": [],
   "source": []
  },
  {
   "cell_type": "code",
   "execution_count": null,
   "id": "448ac0c5-762e-462b-a07f-d467867a4d3a",
   "metadata": {},
   "outputs": [],
   "source": []
  },
  {
   "cell_type": "code",
   "execution_count": null,
   "id": "50d8f864-af66-48ec-9d7c-c46b4bbd0576",
   "metadata": {},
   "outputs": [],
   "source": []
  },
  {
   "cell_type": "code",
   "execution_count": 10,
   "id": "e55b1a56-19e4-4304-82b7-baffc9255afb",
   "metadata": {},
   "outputs": [
    {
     "ename": "AttributeError",
     "evalue": "'str' object has no attribute 'chr'",
     "output_type": "error",
     "traceback": [
      "\u001b[0;31m---------------------------------------------------------------------------\u001b[0m",
      "\u001b[0;31mAttributeError\u001b[0m                            Traceback (most recent call last)",
      "Cell \u001b[0;32mIn[10], line 1\u001b[0m\n\u001b[0;32m----> 1\u001b[0m \u001b[43mtext\u001b[49m\u001b[43m[\u001b[49m\u001b[38;5;241;43m-\u001b[39;49m\u001b[38;5;241;43m1\u001b[39;49m\u001b[43m]\u001b[49m\u001b[38;5;241;43m.\u001b[39;49m\u001b[43mchr\u001b[49m\n",
      "\u001b[0;31mAttributeError\u001b[0m: 'str' object has no attribute 'chr'"
     ]
    }
   ],
   "source": [
    "text[-1].chr"
   ]
  },
  {
   "cell_type": "code",
   "execution_count": null,
   "id": "c0f8ba98-478c-4267-93b9-fd24d67012df",
   "metadata": {},
   "outputs": [],
   "source": []
  },
  {
   "cell_type": "code",
   "execution_count": null,
   "id": "bc968065-7d63-4972-99f6-19aaca99bb37",
   "metadata": {},
   "outputs": [],
   "source": []
  },
  {
   "cell_type": "code",
   "execution_count": null,
   "id": "4310b8e3-b78d-4cf6-8b52-f855f6d9a3b5",
   "metadata": {},
   "outputs": [],
   "source": []
  }
 ],
 "metadata": {
  "kernelspec": {
   "display_name": "Python 3 (ipykernel)",
   "language": "python",
   "name": "python3"
  },
  "language_info": {
   "codemirror_mode": {
    "name": "ipython",
    "version": 3
   },
   "file_extension": ".py",
   "mimetype": "text/x-python",
   "name": "python",
   "nbconvert_exporter": "python",
   "pygments_lexer": "ipython3",
   "version": "3.11.7"
  }
 },
 "nbformat": 4,
 "nbformat_minor": 5
}
